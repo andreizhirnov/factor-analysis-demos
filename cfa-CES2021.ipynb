{
 "cells": [
  {
   "cell_type": "markdown",
   "id": "7f848aff",
   "metadata": {},
   "source": [
    "## Confirmatory factor analysis\n",
    "\n",
    "1. prepare data\n",
    "2. select observed variables and specify a model linking them to latent variables \n",
    "3. estimate factor loadings\n",
    "4. study the estimated factor loadings and the model fit statistics\n",
    "5. predict the values of latent variables"
   ]
  },
  {
   "cell_type": "code",
   "execution_count": 1,
   "id": "425968c9",
   "metadata": {},
   "outputs": [],
   "source": [
    "# !pip install factor_analyzer"
   ]
  },
  {
   "cell_type": "markdown",
   "id": "6b059d33",
   "metadata": {},
   "source": [
    "### Load the necessary modules"
   ]
  },
  {
   "cell_type": "code",
   "execution_count": 2,
   "id": "db38f7d2",
   "metadata": {},
   "outputs": [],
   "source": [
    "import os, re\n",
    "import pandas as pd\n",
    "import numpy as np\n",
    "from factor_analyzer import confirmatory_factor_analyzer as cfa\n",
    "import matplotlib.pyplot as plt"
   ]
  },
  {
   "cell_type": "markdown",
   "id": "8a8b0aa1",
   "metadata": {},
   "source": [
    "### Set the working directory"
   ]
  },
  {
   "cell_type": "code",
   "execution_count": 3,
   "id": "ce7d6e18",
   "metadata": {},
   "outputs": [],
   "source": [
    "os.chdir('C:\\\\Users\\\\andre\\\\Dropbox\\\\Teaching\\\\SSIM905\\\\data')"
   ]
  },
  {
   "cell_type": "markdown",
   "id": "61f158a3",
   "metadata": {},
   "source": [
    "### Load the data\n",
    "\n",
    "The data used for this demonstration is obtained from the 2021 Canadian Election Study (Stephenson, Laura B.; Harrell, Allison; Rubenson, Daniel; Loewen, Peter John, 2023, \"Canadian Election Study 2021\", https://doi.org/10.5683/SP3/MMXTFC). It can be accessed here:\n",
    "\n",
    "[https://borealisdata.ca/dataset.xhtml?persistentId=doi:10.5683/SP3/MMXTFC](https://borealisdata.ca/dataset.xhtml?persistentId=doi:10.5683/SP3/MMXTFC)"
   ]
  },
  {
   "cell_type": "code",
   "execution_count": 4,
   "id": "925ed7c3",
   "metadata": {},
   "outputs": [
    {
     "name": "stderr",
     "output_type": "stream",
     "text": [
      "C:\\Users\\andre\\AppData\\Local\\Temp\\ipykernel_25476\\430339018.py:1: DtypeWarning: Columns (20,604,616,626,628,635,674,680,719,739,763,895,1071,1080) have mixed types. Specify dtype option on import or set low_memory=False.\n",
      "  ds0=pd.read_csv('CES2021tab.tab',sep='\\t')\n"
     ]
    }
   ],
   "source": [
    "ds0=pd.read_csv('CES2021tab.tab',sep='\\t')"
   ]
  },
  {
   "cell_type": "code",
   "execution_count": 5,
   "id": "92d9c599",
   "metadata": {},
   "outputs": [],
   "source": [
    "# ds0.head()"
   ]
  },
  {
   "cell_type": "code",
   "execution_count": 6,
   "id": "3c691ad7",
   "metadata": {},
   "outputs": [],
   "source": [
    "r = re.compile('pes21\\\\_populism')\n",
    "pop_vars = list(filter(r.match, ds0.columns)) "
   ]
  },
  {
   "cell_type": "code",
   "execution_count": 7,
   "id": "38bff220",
   "metadata": {},
   "outputs": [],
   "source": [
    "pop_dict = {\n",
    "    'pes21_populism_2': \"What people call compromise in politics is really just selling out on one's principles\",\n",
    "    'pes21_populism_3': \"Most politicians do not care about the people\",\n",
    "    'pes21_populism_4': \"Most politicians are trustworthy\",\n",
    "    'pes21_populism_6': \"Having a strong leader in government is good for Canada even if the leader bends the rules to get things done\",\n",
    "    'pes21_populism_7': \"The people, and not politicians, should make our most important policy decisions\",\n",
    "    'pes21_populism_8': \"Most politicians care only about the interests of the rich and powerful\"\n",
    "}"
   ]
  },
  {
   "cell_type": "code",
   "execution_count": 8,
   "id": "27e5cf18",
   "metadata": {},
   "outputs": [],
   "source": [
    "ds = ds0.set_index(['cps21_ResponseId'])[pop_vars].replace(6, np.NaN)\n",
    "ds_pop = ds[pop_vars].dropna()"
   ]
  },
  {
   "cell_type": "code",
   "execution_count": 9,
   "id": "f02a9d7e",
   "metadata": {},
   "outputs": [],
   "source": [
    "# ds_pop.head()"
   ]
  },
  {
   "cell_type": "markdown",
   "id": "8ee8816c",
   "metadata": {},
   "source": [
    "### Specify the model"
   ]
  },
  {
   "cell_type": "code",
   "execution_count": 10,
   "id": "24ce09c8",
   "metadata": {},
   "outputs": [],
   "source": [
    "mod_dict = {'populism':pop_vars} \n",
    "mod = cfa.ModelSpecificationParser.parse_model_specification_from_dict(ds_pop, mod_dict)"
   ]
  },
  {
   "cell_type": "markdown",
   "id": "bd109e51",
   "metadata": {},
   "source": [
    "### Estimate the parameters"
   ]
  },
  {
   "cell_type": "code",
   "execution_count": 11,
   "id": "a65dae45",
   "metadata": {
    "scrolled": true
   },
   "outputs": [
    {
     "data": {
      "text/html": [
       "<style>#sk-container-id-1 {color: black;}#sk-container-id-1 pre{padding: 0;}#sk-container-id-1 div.sk-toggleable {background-color: white;}#sk-container-id-1 label.sk-toggleable__label {cursor: pointer;display: block;width: 100%;margin-bottom: 0;padding: 0.3em;box-sizing: border-box;text-align: center;}#sk-container-id-1 label.sk-toggleable__label-arrow:before {content: \"▸\";float: left;margin-right: 0.25em;color: #696969;}#sk-container-id-1 label.sk-toggleable__label-arrow:hover:before {color: black;}#sk-container-id-1 div.sk-estimator:hover label.sk-toggleable__label-arrow:before {color: black;}#sk-container-id-1 div.sk-toggleable__content {max-height: 0;max-width: 0;overflow: hidden;text-align: left;background-color: #f0f8ff;}#sk-container-id-1 div.sk-toggleable__content pre {margin: 0.2em;color: black;border-radius: 0.25em;background-color: #f0f8ff;}#sk-container-id-1 input.sk-toggleable__control:checked~div.sk-toggleable__content {max-height: 200px;max-width: 100%;overflow: auto;}#sk-container-id-1 input.sk-toggleable__control:checked~label.sk-toggleable__label-arrow:before {content: \"▾\";}#sk-container-id-1 div.sk-estimator input.sk-toggleable__control:checked~label.sk-toggleable__label {background-color: #d4ebff;}#sk-container-id-1 div.sk-label input.sk-toggleable__control:checked~label.sk-toggleable__label {background-color: #d4ebff;}#sk-container-id-1 input.sk-hidden--visually {border: 0;clip: rect(1px 1px 1px 1px);clip: rect(1px, 1px, 1px, 1px);height: 1px;margin: -1px;overflow: hidden;padding: 0;position: absolute;width: 1px;}#sk-container-id-1 div.sk-estimator {font-family: monospace;background-color: #f0f8ff;border: 1px dotted black;border-radius: 0.25em;box-sizing: border-box;margin-bottom: 0.5em;}#sk-container-id-1 div.sk-estimator:hover {background-color: #d4ebff;}#sk-container-id-1 div.sk-parallel-item::after {content: \"\";width: 100%;border-bottom: 1px solid gray;flex-grow: 1;}#sk-container-id-1 div.sk-label:hover label.sk-toggleable__label {background-color: #d4ebff;}#sk-container-id-1 div.sk-serial::before {content: \"\";position: absolute;border-left: 1px solid gray;box-sizing: border-box;top: 0;bottom: 0;left: 50%;z-index: 0;}#sk-container-id-1 div.sk-serial {display: flex;flex-direction: column;align-items: center;background-color: white;padding-right: 0.2em;padding-left: 0.2em;position: relative;}#sk-container-id-1 div.sk-item {position: relative;z-index: 1;}#sk-container-id-1 div.sk-parallel {display: flex;align-items: stretch;justify-content: center;background-color: white;position: relative;}#sk-container-id-1 div.sk-item::before, #sk-container-id-1 div.sk-parallel-item::before {content: \"\";position: absolute;border-left: 1px solid gray;box-sizing: border-box;top: 0;bottom: 0;left: 50%;z-index: -1;}#sk-container-id-1 div.sk-parallel-item {display: flex;flex-direction: column;z-index: 1;position: relative;background-color: white;}#sk-container-id-1 div.sk-parallel-item:first-child::after {align-self: flex-end;width: 50%;}#sk-container-id-1 div.sk-parallel-item:last-child::after {align-self: flex-start;width: 50%;}#sk-container-id-1 div.sk-parallel-item:only-child::after {width: 0;}#sk-container-id-1 div.sk-dashed-wrapped {border: 1px dashed gray;margin: 0 0.4em 0.5em 0.4em;box-sizing: border-box;padding-bottom: 0.4em;background-color: white;}#sk-container-id-1 div.sk-label label {font-family: monospace;font-weight: bold;display: inline-block;line-height: 1.2em;}#sk-container-id-1 div.sk-label-container {text-align: center;}#sk-container-id-1 div.sk-container {/* jupyter's `normalize.less` sets `[hidden] { display: none; }` but bootstrap.min.css set `[hidden] { display: none !important; }` so we also need the `!important` here to be able to override the default hidden behavior on the sphinx rendered scikit-learn.org. See: https://github.com/scikit-learn/scikit-learn/issues/21755 */display: inline-block !important;position: relative;}#sk-container-id-1 div.sk-text-repr-fallback {display: none;}</style><div id=\"sk-container-id-1\" class=\"sk-top-container\"><div class=\"sk-text-repr-fallback\"><pre>ConfirmatoryFactorAnalyzer(n_obs=13456,\n",
       "                           specification=&lt;factor_analyzer.confirmatory_factor_analyzer.ModelSpecification object at 0x00000258481C6E90&gt;)</pre><b>In a Jupyter environment, please rerun this cell to show the HTML representation or trust the notebook. <br />On GitHub, the HTML representation is unable to render, please try loading this page with nbviewer.org.</b></div><div class=\"sk-container\" hidden><div class=\"sk-item\"><div class=\"sk-estimator sk-toggleable\"><input class=\"sk-toggleable__control sk-hidden--visually\" id=\"sk-estimator-id-1\" type=\"checkbox\" checked><label for=\"sk-estimator-id-1\" class=\"sk-toggleable__label sk-toggleable__label-arrow\">ConfirmatoryFactorAnalyzer</label><div class=\"sk-toggleable__content\"><pre>ConfirmatoryFactorAnalyzer(n_obs=13456,\n",
       "                           specification=&lt;factor_analyzer.confirmatory_factor_analyzer.ModelSpecification object at 0x00000258481C6E90&gt;)</pre></div></div></div></div></div>"
      ],
      "text/plain": [
       "ConfirmatoryFactorAnalyzer(n_obs=13456,\n",
       "                           specification=<factor_analyzer.confirmatory_factor_analyzer.ModelSpecification object at 0x00000258481C6E90>)"
      ]
     },
     "execution_count": 11,
     "metadata": {},
     "output_type": "execute_result"
    }
   ],
   "source": [
    "est = cfa.ConfirmatoryFactorAnalyzer(mod)\n",
    "est.fit(ds_pop.to_numpy())"
   ]
  },
  {
   "cell_type": "markdown",
   "id": "3f99d057",
   "metadata": {},
   "source": [
    "### Examine loadings"
   ]
  },
  {
   "cell_type": "code",
   "execution_count": 12,
   "id": "94c05af1",
   "metadata": {
    "scrolled": true
   },
   "outputs": [
    {
     "data": {
      "text/html": [
       "<div>\n",
       "<style scoped>\n",
       "    .dataframe tbody tr th:only-of-type {\n",
       "        vertical-align: middle;\n",
       "    }\n",
       "\n",
       "    .dataframe tbody tr th {\n",
       "        vertical-align: top;\n",
       "    }\n",
       "\n",
       "    .dataframe thead th {\n",
       "        text-align: right;\n",
       "    }\n",
       "</style>\n",
       "<table border=\"1\" class=\"dataframe\">\n",
       "  <thead>\n",
       "    <tr style=\"text-align: right;\">\n",
       "      <th></th>\n",
       "      <th>0</th>\n",
       "    </tr>\n",
       "  </thead>\n",
       "  <tbody>\n",
       "    <tr>\n",
       "      <th>What people call compromise in politics is really just selling out on one's principles</th>\n",
       "      <td>0.599293</td>\n",
       "    </tr>\n",
       "    <tr>\n",
       "      <th>Most politicians do not care about the people</th>\n",
       "      <td>0.971636</td>\n",
       "    </tr>\n",
       "    <tr>\n",
       "      <th>Most politicians are trustworthy</th>\n",
       "      <td>-0.702589</td>\n",
       "    </tr>\n",
       "    <tr>\n",
       "      <th>Having a strong leader in government is good for Canada even if the leader bends the rules to get things done</th>\n",
       "      <td>0.026793</td>\n",
       "    </tr>\n",
       "    <tr>\n",
       "      <th>The people, and not politicians, should make our most important policy decisions</th>\n",
       "      <td>0.585483</td>\n",
       "    </tr>\n",
       "    <tr>\n",
       "      <th>Most politicians care only about the interests of the rich and powerful</th>\n",
       "      <td>0.835000</td>\n",
       "    </tr>\n",
       "  </tbody>\n",
       "</table>\n",
       "</div>"
      ],
      "text/plain": [
       "                                                           0\n",
       "What people call compromise in politics is real...  0.599293\n",
       "Most politicians do not care about the people       0.971636\n",
       "Most politicians are trustworthy                   -0.702589\n",
       "Having a strong leader in government is good fo...  0.026793\n",
       "The people, and not politicians, should make ou...  0.585483\n",
       "Most politicians care only about the interests ...  0.835000"
      ]
     },
     "execution_count": 12,
     "metadata": {},
     "output_type": "execute_result"
    }
   ],
   "source": [
    "pd.DataFrame(est.loadings_, index=pop_dict.values())"
   ]
  },
  {
   "cell_type": "code",
   "execution_count": 13,
   "id": "7910d2cf",
   "metadata": {},
   "outputs": [
    {
     "data": {
      "text/plain": [
       "array([[1.]])"
      ]
     },
     "execution_count": 13,
     "metadata": {},
     "output_type": "execute_result"
    }
   ],
   "source": [
    "est.factor_varcovs_"
   ]
  },
  {
   "cell_type": "code",
   "execution_count": 14,
   "id": "26e32364",
   "metadata": {},
   "outputs": [
    {
     "data": {
      "text/plain": [
       "231534.4880245471"
      ]
     },
     "execution_count": 14,
     "metadata": {},
     "output_type": "execute_result"
    }
   ],
   "source": [
    "est.aic_"
   ]
  },
  {
   "cell_type": "markdown",
   "id": "78fd2935",
   "metadata": {},
   "source": [
    "### Modify the model to keep only the variables with high loadings"
   ]
  },
  {
   "cell_type": "code",
   "execution_count": 15,
   "id": "903c59d2",
   "metadata": {},
   "outputs": [
    {
     "data": {
      "text/html": [
       "<style>#sk-container-id-2 {color: black;}#sk-container-id-2 pre{padding: 0;}#sk-container-id-2 div.sk-toggleable {background-color: white;}#sk-container-id-2 label.sk-toggleable__label {cursor: pointer;display: block;width: 100%;margin-bottom: 0;padding: 0.3em;box-sizing: border-box;text-align: center;}#sk-container-id-2 label.sk-toggleable__label-arrow:before {content: \"▸\";float: left;margin-right: 0.25em;color: #696969;}#sk-container-id-2 label.sk-toggleable__label-arrow:hover:before {color: black;}#sk-container-id-2 div.sk-estimator:hover label.sk-toggleable__label-arrow:before {color: black;}#sk-container-id-2 div.sk-toggleable__content {max-height: 0;max-width: 0;overflow: hidden;text-align: left;background-color: #f0f8ff;}#sk-container-id-2 div.sk-toggleable__content pre {margin: 0.2em;color: black;border-radius: 0.25em;background-color: #f0f8ff;}#sk-container-id-2 input.sk-toggleable__control:checked~div.sk-toggleable__content {max-height: 200px;max-width: 100%;overflow: auto;}#sk-container-id-2 input.sk-toggleable__control:checked~label.sk-toggleable__label-arrow:before {content: \"▾\";}#sk-container-id-2 div.sk-estimator input.sk-toggleable__control:checked~label.sk-toggleable__label {background-color: #d4ebff;}#sk-container-id-2 div.sk-label input.sk-toggleable__control:checked~label.sk-toggleable__label {background-color: #d4ebff;}#sk-container-id-2 input.sk-hidden--visually {border: 0;clip: rect(1px 1px 1px 1px);clip: rect(1px, 1px, 1px, 1px);height: 1px;margin: -1px;overflow: hidden;padding: 0;position: absolute;width: 1px;}#sk-container-id-2 div.sk-estimator {font-family: monospace;background-color: #f0f8ff;border: 1px dotted black;border-radius: 0.25em;box-sizing: border-box;margin-bottom: 0.5em;}#sk-container-id-2 div.sk-estimator:hover {background-color: #d4ebff;}#sk-container-id-2 div.sk-parallel-item::after {content: \"\";width: 100%;border-bottom: 1px solid gray;flex-grow: 1;}#sk-container-id-2 div.sk-label:hover label.sk-toggleable__label {background-color: #d4ebff;}#sk-container-id-2 div.sk-serial::before {content: \"\";position: absolute;border-left: 1px solid gray;box-sizing: border-box;top: 0;bottom: 0;left: 50%;z-index: 0;}#sk-container-id-2 div.sk-serial {display: flex;flex-direction: column;align-items: center;background-color: white;padding-right: 0.2em;padding-left: 0.2em;position: relative;}#sk-container-id-2 div.sk-item {position: relative;z-index: 1;}#sk-container-id-2 div.sk-parallel {display: flex;align-items: stretch;justify-content: center;background-color: white;position: relative;}#sk-container-id-2 div.sk-item::before, #sk-container-id-2 div.sk-parallel-item::before {content: \"\";position: absolute;border-left: 1px solid gray;box-sizing: border-box;top: 0;bottom: 0;left: 50%;z-index: -1;}#sk-container-id-2 div.sk-parallel-item {display: flex;flex-direction: column;z-index: 1;position: relative;background-color: white;}#sk-container-id-2 div.sk-parallel-item:first-child::after {align-self: flex-end;width: 50%;}#sk-container-id-2 div.sk-parallel-item:last-child::after {align-self: flex-start;width: 50%;}#sk-container-id-2 div.sk-parallel-item:only-child::after {width: 0;}#sk-container-id-2 div.sk-dashed-wrapped {border: 1px dashed gray;margin: 0 0.4em 0.5em 0.4em;box-sizing: border-box;padding-bottom: 0.4em;background-color: white;}#sk-container-id-2 div.sk-label label {font-family: monospace;font-weight: bold;display: inline-block;line-height: 1.2em;}#sk-container-id-2 div.sk-label-container {text-align: center;}#sk-container-id-2 div.sk-container {/* jupyter's `normalize.less` sets `[hidden] { display: none; }` but bootstrap.min.css set `[hidden] { display: none !important; }` so we also need the `!important` here to be able to override the default hidden behavior on the sphinx rendered scikit-learn.org. See: https://github.com/scikit-learn/scikit-learn/issues/21755 */display: inline-block !important;position: relative;}#sk-container-id-2 div.sk-text-repr-fallback {display: none;}</style><div id=\"sk-container-id-2\" class=\"sk-top-container\"><div class=\"sk-text-repr-fallback\"><pre>ConfirmatoryFactorAnalyzer(n_obs=13456,\n",
       "                           specification=&lt;factor_analyzer.confirmatory_factor_analyzer.ModelSpecification object at 0x0000025855B5B750&gt;)</pre><b>In a Jupyter environment, please rerun this cell to show the HTML representation or trust the notebook. <br />On GitHub, the HTML representation is unable to render, please try loading this page with nbviewer.org.</b></div><div class=\"sk-container\" hidden><div class=\"sk-item\"><div class=\"sk-estimator sk-toggleable\"><input class=\"sk-toggleable__control sk-hidden--visually\" id=\"sk-estimator-id-2\" type=\"checkbox\" checked><label for=\"sk-estimator-id-2\" class=\"sk-toggleable__label sk-toggleable__label-arrow\">ConfirmatoryFactorAnalyzer</label><div class=\"sk-toggleable__content\"><pre>ConfirmatoryFactorAnalyzer(n_obs=13456,\n",
       "                           specification=&lt;factor_analyzer.confirmatory_factor_analyzer.ModelSpecification object at 0x0000025855B5B750&gt;)</pre></div></div></div></div></div>"
      ],
      "text/plain": [
       "ConfirmatoryFactorAnalyzer(n_obs=13456,\n",
       "                           specification=<factor_analyzer.confirmatory_factor_analyzer.ModelSpecification object at 0x0000025855B5B750>)"
      ]
     },
     "execution_count": 15,
     "metadata": {},
     "output_type": "execute_result"
    }
   ],
   "source": [
    "pop_vars2 = ['pes21_populism_2','pes21_populism_3','pes21_populism_4','pes21_populism_7','pes21_populism_8']\n",
    "mod_dict2 = {'populism':pop_vars2} \n",
    "mod2 = cfa.ModelSpecificationParser.parse_model_specification_from_dict(ds_pop[pop_vars2], mod_dict2)\n",
    "est2 = cfa.ConfirmatoryFactorAnalyzer(mod2)\n",
    "est2.fit(ds_pop[pop_vars2])"
   ]
  },
  {
   "cell_type": "code",
   "execution_count": 16,
   "id": "efe2f986",
   "metadata": {},
   "outputs": [
    {
     "data": {
      "text/html": [
       "<div>\n",
       "<style scoped>\n",
       "    .dataframe tbody tr th:only-of-type {\n",
       "        vertical-align: middle;\n",
       "    }\n",
       "\n",
       "    .dataframe tbody tr th {\n",
       "        vertical-align: top;\n",
       "    }\n",
       "\n",
       "    .dataframe thead th {\n",
       "        text-align: right;\n",
       "    }\n",
       "</style>\n",
       "<table border=\"1\" class=\"dataframe\">\n",
       "  <thead>\n",
       "    <tr style=\"text-align: right;\">\n",
       "      <th></th>\n",
       "      <th>0</th>\n",
       "    </tr>\n",
       "  </thead>\n",
       "  <tbody>\n",
       "    <tr>\n",
       "      <th>pes21_populism_2</th>\n",
       "      <td>0.598722</td>\n",
       "    </tr>\n",
       "    <tr>\n",
       "      <th>pes21_populism_3</th>\n",
       "      <td>0.971957</td>\n",
       "    </tr>\n",
       "    <tr>\n",
       "      <th>pes21_populism_4</th>\n",
       "      <td>-0.703112</td>\n",
       "    </tr>\n",
       "    <tr>\n",
       "      <th>pes21_populism_7</th>\n",
       "      <td>0.585222</td>\n",
       "    </tr>\n",
       "    <tr>\n",
       "      <th>pes21_populism_8</th>\n",
       "      <td>0.834666</td>\n",
       "    </tr>\n",
       "  </tbody>\n",
       "</table>\n",
       "</div>"
      ],
      "text/plain": [
       "                         0\n",
       "pes21_populism_2  0.598722\n",
       "pes21_populism_3  0.971957\n",
       "pes21_populism_4 -0.703112\n",
       "pes21_populism_7  0.585222\n",
       "pes21_populism_8  0.834666"
      ]
     },
     "execution_count": 16,
     "metadata": {},
     "output_type": "execute_result"
    }
   ],
   "source": [
    "pd.DataFrame(est2.loadings_, index=pop_vars2)"
   ]
  },
  {
   "cell_type": "code",
   "execution_count": 17,
   "id": "ac517d80",
   "metadata": {
    "scrolled": true
   },
   "outputs": [
    {
     "data": {
      "text/plain": [
       "187482.6088034073"
      ]
     },
     "execution_count": 17,
     "metadata": {},
     "output_type": "execute_result"
    }
   ],
   "source": [
    "est2.aic_"
   ]
  },
  {
   "cell_type": "code",
   "execution_count": 18,
   "id": "71ae5140",
   "metadata": {},
   "outputs": [
    {
     "data": {
      "text/plain": [
       "(13456, 1)"
      ]
     },
     "execution_count": 18,
     "metadata": {},
     "output_type": "execute_result"
    }
   ],
   "source": [
    "est.transform(ds_pop).shape"
   ]
  },
  {
   "cell_type": "markdown",
   "id": "e79d0756",
   "metadata": {},
   "source": [
    "### Computing scores"
   ]
  },
  {
   "cell_type": "code",
   "execution_count": 19,
   "id": "b8e65546",
   "metadata": {},
   "outputs": [
    {
     "data": {
      "text/html": [
       "<div>\n",
       "<style scoped>\n",
       "    .dataframe tbody tr th:only-of-type {\n",
       "        vertical-align: middle;\n",
       "    }\n",
       "\n",
       "    .dataframe tbody tr th {\n",
       "        vertical-align: top;\n",
       "    }\n",
       "\n",
       "    .dataframe thead th {\n",
       "        text-align: right;\n",
       "    }\n",
       "</style>\n",
       "<table border=\"1\" class=\"dataframe\">\n",
       "  <thead>\n",
       "    <tr style=\"text-align: right;\">\n",
       "      <th></th>\n",
       "      <th>populism</th>\n",
       "    </tr>\n",
       "    <tr>\n",
       "      <th>cps21_ResponseId</th>\n",
       "      <th></th>\n",
       "    </tr>\n",
       "  </thead>\n",
       "  <tbody>\n",
       "    <tr>\n",
       "      <th>R_001Vw6R3CxCzbcR</th>\n",
       "      <td>0.558995</td>\n",
       "    </tr>\n",
       "    <tr>\n",
       "      <th>R_00AJoGE6B8Xifwl</th>\n",
       "      <td>-1.005941</td>\n",
       "    </tr>\n",
       "    <tr>\n",
       "      <th>R_00QYXuUFwGAZLgZ</th>\n",
       "      <td>0.979077</td>\n",
       "    </tr>\n",
       "    <tr>\n",
       "      <th>R_00Wyqmxv6ek6e3L</th>\n",
       "      <td>-0.388606</td>\n",
       "    </tr>\n",
       "    <tr>\n",
       "      <th>R_00nCP7AU1k5Xlkd</th>\n",
       "      <td>0.252439</td>\n",
       "    </tr>\n",
       "  </tbody>\n",
       "</table>\n",
       "</div>"
      ],
      "text/plain": [
       "                   populism\n",
       "cps21_ResponseId           \n",
       "R_001Vw6R3CxCzbcR  0.558995\n",
       "R_00AJoGE6B8Xifwl -1.005941\n",
       "R_00QYXuUFwGAZLgZ  0.979077\n",
       "R_00Wyqmxv6ek6e3L -0.388606\n",
       "R_00nCP7AU1k5Xlkd  0.252439"
      ]
     },
     "execution_count": 19,
     "metadata": {},
     "output_type": "execute_result"
    }
   ],
   "source": [
    "pred_pos = pd.DataFrame(est2.transform(ds_pop[pop_vars2]), index=ds_pop.index, columns=['populism'])\n",
    "pred_pos.head()"
   ]
  },
  {
   "cell_type": "code",
   "execution_count": 20,
   "id": "16bf074e",
   "metadata": {
    "scrolled": true
   },
   "outputs": [
    {
     "data": {
      "text/plain": [
       "<Axes: ylabel='Frequency'>"
      ]
     },
     "execution_count": 20,
     "metadata": {},
     "output_type": "execute_result"
    },
    {
     "data": {
      "image/png": "[encoded data removed]",
      "text/plain": [
       "<Figure size 640x480 with 1 Axes>"
      ]
     },
     "metadata": {},
     "output_type": "display_data"
    }
   ],
   "source": [
    "pred_pos.plot(kind='hist')"
   ]
  }
 ],
 "metadata": {
  "kernelspec": {
   "display_name": "Python 3 (ipykernel)",
   "language": "python",
   "name": "python3"
  },
  "language_info": {
   "codemirror_mode": {
    "name": "ipython",
    "version": 3
   },
   "file_extension": ".py",
   "mimetype": "text/x-python",
   "name": "python",
   "nbconvert_exporter": "python",
   "pygments_lexer": "ipython3",
   "version": "3.11.5"
  }
 },
 "nbformat": 4,
 "nbformat_minor": 5
}
